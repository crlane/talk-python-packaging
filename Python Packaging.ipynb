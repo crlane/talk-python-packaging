{
 "cells": [
  {
   "cell_type": "markdown",
   "metadata": {
    "deletable": true,
    "editable": true,
    "slideshow": {
     "slide_type": "slide"
    }
   },
   "source": [
    "# Python Packaging\n",
    "\n",
    "```\n",
    "@crlane & @sduncan\n",
    "Tea Time 2017-03-16\n",
    "```"
   ]
  },
  {
   "cell_type": "markdown",
   "metadata": {
    "deletable": true,
    "editable": true,
    "slideshow": {
     "slide_type": "slide"
    }
   },
   "source": [
    "## Some Terminology"
   ]
  },
  {
   "cell_type": "markdown",
   "metadata": {
    "deletable": true,
    "editable": true,
    "slideshow": {
     "slide_type": "fragment"
    }
   },
   "source": [
    "- *distribution* - a collection of one or more _packages_ intended for release, either in archive (bdist, wheel), or source (sdist) form."
   ]
  },
  {
   "cell_type": "markdown",
   "metadata": {
    "deletable": true,
    "editable": true,
    "slideshow": {
     "slide_type": "fragment"
    }
   },
   "source": [
    "- *package* - an installable collection of one or more python _modules_, data, and associated metadata"
   ]
  },
  {
   "cell_type": "markdown",
   "metadata": {
    "deletable": true,
    "editable": true,
    "slideshow": {
     "slide_type": "fragment"
    }
   },
   "source": [
    "- *module* - an importable unit of executable python code, either pure python or extension (C/C++)"
   ]
  },
  {
   "cell_type": "markdown",
   "metadata": {
    "deletable": true,
    "editable": true,
    "slideshow": {
     "slide_type": "slide"
    }
   },
   "source": [
    "## Some History"
   ]
  },
  {
   "cell_type": "markdown",
   "metadata": {
    "deletable": true,
    "editable": true,
    "slideshow": {
     "slide_type": "fragment"
    }
   },
   "source": [
    "- python is kind of old; there is more than one way to do it. None of them is obvious."
   ]
  },
  {
   "cell_type": "markdown",
   "metadata": {
    "deletable": true,
    "editable": true,
    "slideshow": {
     "slide_type": "fragment"
    }
   },
   "source": [
    "- packaging is somewhat opaque, but there are *well defined standards*. Follow them."
   ]
  },
  {
   "cell_type": "markdown",
   "metadata": {
    "deletable": true,
    "editable": true,
    "slideshow": {
     "slide_type": "fragment"
    }
   },
   "source": [
    "- `setuptools > distutils`"
   ]
  },
  {
   "cell_type": "markdown",
   "metadata": {
    "deletable": true,
    "editable": true,
    "slideshow": {
     "slide_type": "fragment"
    }
   },
   "source": [
    "- `pip install > python setup.py install`"
   ]
  },
  {
   "cell_type": "markdown",
   "metadata": {
    "deletable": true,
    "editable": true,
    "slideshow": {
     "slide_type": "fragment"
    }
   },
   "source": [
    "- `wheel > egg`"
   ]
  },
  {
   "cell_type": "markdown",
   "metadata": {
    "deletable": true,
    "editable": true,
    "slideshow": {
     "slide_type": "slide"
    }
   },
   "source": [
    "## Some Examples"
   ]
  },
  {
   "cell_type": "markdown",
   "metadata": {
    "deletable": true,
    "editable": true,
    "slideshow": {
     "slide_type": "subslide"
    }
   },
   "source": [
    "### How to define a simple python distribution"
   ]
  },
  {
   "cell_type": "markdown",
   "metadata": {
    "deletable": true,
    "editable": true,
    "slideshow": {
     "slide_type": "subslide"
    }
   },
   "source": [
    "1. Write some code in a `.py` file "
   ]
  },
  {
   "cell_type": "code",
   "execution_count": 2,
   "metadata": {
    "collapsed": true,
    "deletable": true,
    "editable": true,
    "slideshow": {
     "slide_type": "fragment"
    }
   },
   "outputs": [],
   "source": [
    "import requests\n",
    "import sys\n",
    "\n",
    "\n",
    "def get_url(url):\n",
    "    session = requests.Session()\n",
    "    return session.get(url)\n",
    "\n",
    "\n",
    "def command_line():\n",
    "    if not len(sys.argv) > 1:\n",
    "        print(\"Please supply a url to fetch!\")\n",
    "        sys.exit(1)\n",
    "    return url_getter(sys.argv[1])"
   ]
  },
  {
   "cell_type": "markdown",
   "metadata": {
    "deletable": true,
    "editable": true,
    "slideshow": {
     "slide_type": "subslide"
    }
   },
   "source": [
    "1. Create an executable specification for building the package (setup.py)\n",
    "   - What packages exist in the distribution?\n",
    "   - What are the package's dependencies (for install, setup, testing)?\n",
    "   - What non executable data should be included (text files, static assets, templates)?\n",
    "   - Public info (maintainer contact, description, licences...)"
   ]
  },
  {
   "cell_type": "code",
   "execution_count": null,
   "metadata": {
    "collapsed": false,
    "deletable": true,
    "editable": true,
    "slideshow": {
     "slide_type": "fragment"
    }
   },
   "outputs": [],
   "source": [
    "from setuptools import (\n",
    "    setup,\n",
    "    find_packages  # what it says on the tin\n",
    ")\n",
    "\n",
    "setup(\n",
    "    name='urlfetch',\n",
    "    version='0.1.0',\n",
    "    description='Fetches URLs! Web browsers hate it!',\n",
    "    install_requires=['requests'],  # could also read a requirements.txt file to populate list\n",
    "    packages=find_packages(),  # can also explicitly list things\n",
    "    license='wtfpl',\n",
    "    entry_points={  # you can create really cool things here\n",
    "        'console_scripts': [\n",
    "            'fetch_url=urlgetter:command_line'\n",
    "        ]\n",
    "    },\n",
    ")"
   ]
  },
  {
   "cell_type": "markdown",
   "metadata": {
    "collapsed": false,
    "deletable": true,
    "editable": true,
    "slideshow": {
     "slide_type": "subslide"
    }
   },
   "source": [
    "### How to package the distribution so someone else can use it"
   ]
  },
  {
   "cell_type": "markdown",
   "metadata": {
    "slideshow": {
     "slide_type": "subslide"
    }
   },
   "source": [
    "- source distribution (tar.gz) of your code."
   ]
  },
  {
   "cell_type": "markdown",
   "metadata": {
    "collapsed": true,
    "deletable": true,
    "editable": true,
    "slideshow": {
     "slide_type": "fragment"
    }
   },
   "source": [
    "```\n",
    "python setup.py sdist\n",
    "```"
   ]
  },
  {
   "cell_type": "markdown",
   "metadata": {
    "slideshow": {
     "slide_type": "subslide"
    }
   },
   "source": [
    "### sdist"
   ]
  },
  {
   "cell_type": "markdown",
   "metadata": {
    "slideshow": {
     "slide_type": "fragment"
    }
   },
   "source": [
    "```\n",
    "(packaging-talk)➜  urlfetch-0.1.0 git:(master) ✗ tree\n",
    ".\n",
    "├── PKG-INFO\n",
    "├── setup.cfg\n",
    "├── setup.py\n",
    "└── urlfetch.egg-info\n",
    "    ├── PKG-INFO\n",
    "    ├── SOURCES.txt\n",
    "    ├── dependency_links.txt\n",
    "    ├── entry_points.txt\n",
    "    ├── requires.txt\n",
    "    └── top_level.txt\n",
    "```"
   ]
  },
  {
   "cell_type": "markdown",
   "metadata": {
    "slideshow": {
     "slide_type": "subslide"
    }
   },
   "source": [
    "- binary distribution (platform specific)"
   ]
  },
  {
   "cell_type": "markdown",
   "metadata": {
    "collapsed": true,
    "deletable": true,
    "editable": true,
    "slideshow": {
     "slide_type": "fragment"
    }
   },
   "source": [
    "```\n",
    "python setup.py bdist\n",
    "```"
   ]
  },
  {
   "cell_type": "markdown",
   "metadata": {
    "slideshow": {
     "slide_type": "subslide"
    }
   },
   "source": [
    "### bdist"
   ]
  },
  {
   "cell_type": "markdown",
   "metadata": {
    "slideshow": {
     "slide_type": "fragment"
    }
   },
   "source": [
    "```\n",
    "(packaging-talk)➜  dist git:(master) ✗ tar -xvzf urlfetch-0.1.0.macosx-10.11-x86_64.tar.gz\n",
    "x ./\n",
    "x ./Users/\n",
    "x ./Users/clane/\n",
    "x ./Users/clane/.virtualenvs/\n",
    "x ./Users/clane/.virtualenvs/packaging-talk/\n",
    "x ./Users/clane/.virtualenvs/packaging-talk/bin/\n",
    "x ./Users/clane/.virtualenvs/packaging-talk/bin/fetch_url\n",
    "x ./Users/clane/.virtualenvs/packaging-talk/lib/\n",
    "x ./Users/clane/.virtualenvs/packaging-talk/lib/python3.6/\n",
    "x ./Users/clane/.virtualenvs/packaging-talk/lib/python3.6/site-packages/\n",
    "x ./Users/clane/.virtualenvs/packaging-talk/lib/python3.6/site-packages/urlfetch-0.1.0-py3.6.egg-info/\n",
    "x ./Users/clane/.virtualenvs/packaging-talk/lib/python3.6/site-packages/urlfetch-0.1.0-py3.6.egg-info/dependency_links.txt\n",
    "x ./Users/clane/.virtualenvs/packaging-talk/lib/python3.6/site-packages/urlfetch-0.1.0-py3.6.egg-info/entry_points.txt\n",
    "x ./Users/clane/.virtualenvs/packaging-talk/lib/python3.6/site-packages/urlfetch-0.1.0-py3.6.egg-info/PKG-INFO\n",
    "x ./Users/clane/.virtualenvs/packaging-talk/lib/python3.6/site-packages/urlfetch-0.1.0-py3.6.egg-info/requires.txt\n",
    "x ./Users/clane/.virtualenvs/packaging-talk/lib/python3.6/site-packages/urlfetch-0.1.0-py3.6.egg-info/SOURCES.txt\n",
    "x ./Users/clane/.virtualenvs/packaging-talk/lib/python3.6/site-packages/urlfetch-0.1.0-py3.6.egg-info/top_level.txt\n",
    "```"
   ]
  },
  {
   "cell_type": "markdown",
   "metadata": {
    "deletable": true,
    "editable": true,
    "slideshow": {
     "slide_type": "subslide"
    }
   },
   "source": [
    "- binary wheel distribution"
   ]
  },
  {
   "cell_type": "markdown",
   "metadata": {
    "collapsed": true,
    "deletable": true,
    "editable": true,
    "slideshow": {
     "slide_type": "fragment"
    }
   },
   "source": [
    "```\n",
    "python setup.py bdist_wheel\n",
    "```"
   ]
  },
  {
   "cell_type": "markdown",
   "metadata": {
    "slideshow": {
     "slide_type": "subslide"
    }
   },
   "source": [
    "### wheel"
   ]
  },
  {
   "cell_type": "markdown",
   "metadata": {
    "slideshow": {
     "slide_type": "fragment"
    }
   },
   "source": [
    "```\n",
    "(packaging-talk)➜  urlfetch-0.1.0.dist-info git:(master) ✗ tree\n",
    ".\n",
    "├── DESCRIPTION.rst\n",
    "├── METADATA\n",
    "├── RECORD\n",
    "├── WHEEL\n",
    "├── entry_points.txt\n",
    "├── metadata.json\n",
    "└── top_level.txt\n",
    "\n",
    "0 directories, 7 files\n",
    "```"
   ]
  },
  {
   "cell_type": "markdown",
   "metadata": {
    "slideshow": {
     "slide_type": "subslide"
    }
   },
   "source": [
    "- rpm distribution (For RHEL/Centos)"
   ]
  },
  {
   "cell_type": "markdown",
   "metadata": {
    "deletable": true,
    "editable": true,
    "slideshow": {
     "slide_type": "fragment"
    }
   },
   "source": [
    "```\n",
    "python setup.py bdist_rpm\n",
    "```"
   ]
  },
  {
   "cell_type": "markdown",
   "metadata": {
    "slideshow": {
     "slide_type": "subslide"
    }
   },
   "source": [
    "### bdist_rpm"
   ]
  },
  {
   "cell_type": "markdown",
   "metadata": {
    "slideshow": {
     "slide_type": "fragment"
    }
   },
   "source": [
    "```\n",
    "(packaging-talk)➜  dist git:(master) ✗ tar -tvzf urlfetch-0.1.0-1.src.rpm\n",
    "-rw-r--r--  1 0      0         934 Mar 16 14:56 urlfetch-0.1.0.tar.gz\n",
    "-rw-r--r--  1 0      0         775 Mar 16 14:56 urlfetch.spec\n",
    "```"
   ]
  },
  {
   "cell_type": "markdown",
   "metadata": {
    "slideshow": {
     "slide_type": "slide"
    }
   },
   "source": [
    "### Some Advanced Features"
   ]
  },
  {
   "cell_type": "markdown",
   "metadata": {
    "slideshow": {
     "slide_type": "subslide"
    }
   },
   "source": [
    "- `extra_requires`"
   ]
  },
  {
   "cell_type": "markdown",
   "metadata": {
    "slideshow": {
     "slide_type": "fragment"
    }
   },
   "source": [
    "```python\n",
    "    extras_require={\n",
    "        'testing': tests_require,\n",
    "        'development': dev_requires,\n",
    "    },\n",
    "\n",
    "```"
   ]
  },
  {
   "cell_type": "markdown",
   "metadata": {
    "slideshow": {
     "slide_type": "subslide"
    }
   },
   "source": [
    "- extension building for C/C++ (including Cython)"
   ]
  },
  {
   "cell_type": "markdown",
   "metadata": {
    "slideshow": {
     "slide_type": "fragment"
    }
   },
   "source": [
    "```python\n",
    "setup(\n",
    "    name='fds_ss',\n",
    "    packages=find_packages(exclude=[\n",
    "        '*.test',\n",
    "        '*.test.*',\n",
    "        'test.*',\n",
    "        'test',\n",
    "        '.ignored'\n",
    "    ]),\n",
    "    version='VERSION',\n",
    "    cmdclass={\n",
    "        'build_ext': build_ext\n",
    "    },\n",
    "    ext_modules=[\n",
    "        Extension(\n",
    "            'fds.netaudio',\n",
    "            sources=['fds/_netaudio/netaudio.pyx'],\n",
    "            include_dirs=['fds/_netaudio'],\n",
    "        )\n",
    "    ],\n",
    "    entry_points={\n",
    "        # IMPORTANT: In order for these console scripts to be on the system PATH for\n",
    "        # packaging reasons, you MUST add the symlink to debian/python-fds-ss.links\n",
    "        'console_scripts': [\n",
    "            'correlate_call_org = fds.lob.cli.correlate_call_org:main',\n",
    "            'fds-admin          = fds.cli.fds_admin:FDSAdminCommand.main',\n",
    "            ... snip ...\n",
    "        ]\n",
    "    })\n",
    "```"
   ]
  },
  {
   "cell_type": "markdown",
   "metadata": {
    "slideshow": {
     "slide_type": "subslide"
    }
   },
   "source": [
    "- `pkg_resources` for plugins"
   ]
  },
  {
   "cell_type": "markdown",
   "metadata": {
    "slideshow": {
     "slide_type": "fragment"
    }
   },
   "source": [
    "```python\n",
    "import pkg_resources  # Part of setuptools\n",
    "\n",
    "# Give me the names of everything in the foo.bar namespace\n",
    "names = set(ep.name for ep in pkg_resources.iter_entry_points('foo.bar'))\n",
    "\n",
    "# Dynamically load modules registered in the foo.bar.namespace\n",
    "for ep in pkg_resources.iter_entry_points(group='foo.bar'):\n",
    "    # ep.load() handles normally what __import__ or importlib would without a lot of fuss\n",
    "    dingus = ep.load()\n",
    "\n",
    "    # dingus is now a module/class/function whatever\n",
    "```"
   ]
  },
  {
   "cell_type": "markdown",
   "metadata": {
    "slideshow": {
     "slide_type": "subslide"
    }
   },
   "source": [
    "- stdeb"
   ]
  },
  {
   "cell_type": "markdown",
   "metadata": {
    "deletable": true,
    "editable": true,
    "slideshow": {
     "slide_type": "slide"
    }
   },
   "source": [
    "## Some Links"
   ]
  },
  {
   "cell_type": "markdown",
   "metadata": {
    "deletable": true,
    "editable": true,
    "slideshow": {
     "slide_type": "fragment"
    }
   },
   "source": [
    "- https://www.pypa.io/en/latest/\n",
    "- https://packaging.python.org/\n",
    "- http://wheel.readthedocs.io/en/latest/\n",
    "- https://github.com/shaunduncan/helga/blob/master/setup.py"
   ]
  }
 ],
 "metadata": {
  "celltoolbar": "Slideshow",
  "kernelspec": {
   "display_name": "Python 3",
   "language": "python",
   "name": "python3"
  },
  "language_info": {
   "codemirror_mode": {
    "name": "ipython",
    "version": 3
   },
   "file_extension": ".py",
   "mimetype": "text/x-python",
   "name": "python",
   "nbconvert_exporter": "python",
   "pygments_lexer": "ipython3",
   "version": "3.5.2"
  }
 },
 "nbformat": 4,
 "nbformat_minor": 1
}
